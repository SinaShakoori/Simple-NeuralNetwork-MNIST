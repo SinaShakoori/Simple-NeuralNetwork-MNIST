{
 "cells": [
  {
   "cell_type": "code",
   "execution_count": 4,
   "id": "22395927",
   "metadata": {},
   "outputs": [],
   "source": [
    "import numpy as np\n",
    "from scipy.special import expit"
   ]
  },
  {
   "cell_type": "code",
   "execution_count": 37,
   "id": "8326e5e3",
   "metadata": {},
   "outputs": [],
   "source": [
    "class NueralNetwork:\n",
    "    def __init__(self,input_node,hidden_node,output_node,learning_rate):\n",
    "        self.input_node = input_node\n",
    "        self.hidden_node = hidden_node\n",
    "        self.output_node = output_node\n",
    "\n",
    "        self.learning_rate = learning_rate\n",
    "\n",
    "        self.activation_function = lambda x:expit(x)\n",
    "\n",
    "        self.w_i_h = np.random.normal(0,pow(self.input_node,-0.5),(self.hidden_node,self.input_node))\n",
    "        self.w_h_o = np.random.normal(0,pow(self.hidden_node,-0.5),(self.output_node,self.hidden_node))\n",
    "    def query(self,inputs):\n",
    "        inputs = np.array(inputs,ndmin=2).T\n",
    "        x_hidden=np.dot(self.w_i_h,inputs)\n",
    "        hidden_layer=self.activation_function(x_hidden)\n",
    "\n",
    "        x_outputs = np.dot(self.w_h_o,hidden_layer)\n",
    "        output_layer=self.activation_function(x_outputs)\n",
    "\n",
    "        return output_layer,hidden_layer,inputs\n",
    "\n",
    "\n",
    "\n",
    "    def train(self,inputs,targets):\n",
    "        targets=np.array(targets,ndmin=2).T \n",
    "        output, hidden , inp =self.query(inputs)\n",
    "        err_output=targets-output\n",
    "        err_hidden=np.dot(self.w_h_o.T,err_output)\n",
    "\n",
    "        self.w_h_o += self.learning_rate * (np.dot(err_output*output*(1-output),hidden.T))\n",
    "        self.w_i_h += self.learning_rate * (np.dot(err_hidden*hidden*(1-hidden),inp.T))\n",
    "\n"
   ]
  },
  {
   "cell_type": "code",
   "execution_count": 55,
   "id": "a5a738cf",
   "metadata": {},
   "outputs": [],
   "source": [
    "import pandas as pd\n",
    "dataset = pd.read_csv(\"mnist_train.csv\")\n",
    "X=np.asanyarray(dataset.iloc[:,1:],dtype=np.int16)\n",
    "Y=np.asanyarray(dataset.iloc[:,:1],dtype=np.int16)"
   ]
  },
  {
   "cell_type": "code",
   "execution_count": 60,
   "id": "e8161a1c",
   "metadata": {},
   "outputs": [
    {
     "data": {
      "image/png": "[encoded data removed]",
      "text/plain": [
       "<Figure size 640x480 with 1 Axes>"
      ]
     },
     "metadata": {},
     "output_type": "display_data"
    }
   ],
   "source": [
    "n=0\n",
    "\n",
    "import matplotlib.pyplot as plt\n",
    "sample = X[n].reshape(28,28)\n",
    "plt.imshow(sample,cmap=\"Greys\")\n",
    "plt.show()"
   ]
  },
  {
   "cell_type": "markdown",
   "id": "7f043e5e",
   "metadata": {},
   "source": [
    "# Train"
   ]
  },
  {
   "cell_type": "code",
   "execution_count": 83,
   "id": "e2fe3c10",
   "metadata": {},
   "outputs": [],
   "source": [
    "nn = NueralNetwork(784,600,10,0.1)\n"
   ]
  },
  {
   "cell_type": "code",
   "execution_count": 84,
   "id": "c60607fb",
   "metadata": {},
   "outputs": [
    {
     "name": "stderr",
     "output_type": "stream",
     "text": [
      "C:\\Users\\Sina's Pc\\AppData\\Local\\Temp\\ipykernel_928\\632545907.py:4: DeprecationWarning: Conversion of an array with ndim > 0 to a scalar is deprecated, and will error in future. Ensure you extract a single element from your array before performing this operation. (Deprecated NumPy 1.25.)\n",
      "  t[int(Y[i])]=0.98\n"
     ]
    }
   ],
   "source": [
    "for i in range(len(X)):\n",
    "    info = X[i]\n",
    "    t=np.zeros(10) +0.01\n",
    "    t[int(Y[i])]=0.98\n",
    "    normal_info = (info/255*0.99)+0.01\n",
    "    nn.train(normal_info,t)"
   ]
  },
  {
   "cell_type": "markdown",
   "id": "7ee4ed25",
   "metadata": {},
   "source": [
    "# Test dataset"
   ]
  },
  {
   "cell_type": "code",
   "execution_count": 86,
   "id": "aeace13b",
   "metadata": {},
   "outputs": [],
   "source": [
    "dataset_test = pd.read_csv(\"mnist_test.csv\")\n",
    "X_test=np.asanyarray(dataset_test.iloc[:,1:],dtype=np.int16)\n",
    "Y_test=np.asanyarray(dataset_test.iloc[:,:1],dtype=np.int16)"
   ]
  },
  {
   "cell_type": "code",
   "execution_count": 88,
   "id": "b890efb8",
   "metadata": {},
   "outputs": [
    {
     "name": "stdout",
     "output_type": "stream",
     "text": [
      "0.9581\n"
     ]
    }
   ],
   "source": [
    "score = []\n",
    "\n",
    "for i in range(len(X_test)):\n",
    "    info = X_test[i]\n",
    "    normal_info = (info/255*0.99)+0.01\n",
    "    outs=nn.query(normal_info)\n",
    "    if np.argmax(outs[0]) == Y_test[i]:\n",
    "        score.append(1)\n",
    "    else:\n",
    "        score.append(0)\n",
    "\n",
    "\n",
    "print(sum(score)/len(X_test))"
   ]
  },
  {
   "cell_type": "markdown",
   "id": "7cfd5f1a",
   "metadata": {},
   "source": [
    "# Test Real Picture"
   ]
  },
  {
   "cell_type": "code",
   "execution_count": 121,
   "id": "b2416473",
   "metadata": {},
   "outputs": [
    {
     "data": {
      "image/png": "[encoded data removed]",
      "text/plain": [
       "<Figure size 640x480 with 1 Axes>"
      ]
     },
     "metadata": {},
     "output_type": "display_data"
    }
   ],
   "source": [
    "import cv2\n",
    "img = cv2.imread(\"test.png\", cv2.IMREAD_GRAYSCALE)\n",
    "img = 255 - img  \n",
    "plt.imshow(img)\n",
    "plt.show()"
   ]
  },
  {
   "cell_type": "code",
   "execution_count": 122,
   "id": "1c71691f",
   "metadata": {},
   "outputs": [
    {
     "name": "stdout",
     "output_type": "stream",
     "text": [
      "8\n"
     ]
    }
   ],
   "source": [
    "img=img.flatten()\n",
    "normal_info = (img/255*0.99)+0.01\n",
    "outs=nn.query(normal_info)\n",
    "print(np.argmax(outs[0])) "
   ]
  }
 ],
 "metadata": {
  "kernelspec": {
   "display_name": "env",
   "language": "python",
   "name": "python3"
  },
  "language_info": {
   "codemirror_mode": {
    "name": "ipython",
    "version": 3
   },
   "file_extension": ".py",
   "mimetype": "text/x-python",
   "name": "python",
   "nbconvert_exporter": "python",
   "pygments_lexer": "ipython3",
   "version": "3.10.10"
  }
 },
 "nbformat": 4,
 "nbformat_minor": 5
}
